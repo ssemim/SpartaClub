{
 "cells": [
  {
   "cell_type": "markdown",
   "id": "004b68df",
   "metadata": {},
   "source": [
    "여러분들은 2차원 배열에 대해서 잘 알고 있나요?  \n",
    "아직 2차원 배열에 대해서 잘 이해하지 못하고 코드만 외워서 푸는것 같은 분들을 위한 실습입니다.  \n",
    "\n",
    "간단한 퀴즈 형태로 되어있는 문제들을 아무 도움 없이 혼자서 풀어보시고, 일단 쭉 다 풀어본 다음 풀지 못한 문제의 개념 위주로 복습을 해주세요.  \n",
    "코드는 #TODO 밑에만 작성합니다."
   ]
  },
  {
   "cell_type": "markdown",
   "id": "2fc6515e",
   "metadata": {},
   "source": [
    "1-1. 다음 2차원배열을 행 우선 순회 방법으로 순회하며 한 줄에 하나씩 모든 원소를 출력하세요."
   ]
  },
  {
   "cell_type": "code",
   "execution_count": 3,
   "id": "3a612490",
   "metadata": {},
   "outputs": [
    {
     "name": "stdout",
     "output_type": "stream",
     "text": [
      "1\n",
      "2\n",
      "3\n",
      "4\n",
      "5\n",
      "6\n",
      "7\n",
      "8\n",
      "9\n",
      "10\n",
      "11\n",
      "12\n",
      "13\n",
      "14\n",
      "15\n",
      "16\n",
      "17\n",
      "18\n",
      "19\n",
      "20\n",
      "21\n",
      "22\n",
      "23\n",
      "24\n",
      "25\n"
     ]
    }
   ],
   "source": [
    "arr = [[1,2,3,4,5],[6,7,8,9,10],[11,12,13,14,15],[16,17,18,19,20],[21,22,23,24,25]]\n",
    "\n",
    "for row in arr:\n",
    "    for i in row:\n",
    "        print(i)\n"
   ]
  },
  {
   "cell_type": "markdown",
   "id": "8526b0f9",
   "metadata": {},
   "source": [
    "1-2. 한줄에 띄어쓰기를 사용해서 모든 원소를 출력하세요."
   ]
  },
  {
   "cell_type": "code",
   "execution_count": 2,
   "id": "ea93de80",
   "metadata": {},
   "outputs": [
    {
     "name": "stdout",
     "output_type": "stream",
     "text": [
      "1 2 3 4 5 6 7 8 9 10 11 12 13 14 15 16 17 18 19 20 21 22 23 24 25\n"
     ]
    }
   ],
   "source": [
    "# TODO\n",
    "arr = [[1,2,3,4,5],[6,7,8,9,10],[11,12,13,14,15],[16,17,18,19,20],[21,22,23,24,25]]\n",
    "arr1 = [x for row in arr for x in row]\n",
    "print(*arr1)\n"
   ]
  },
  {
   "cell_type": "markdown",
   "id": "9844f3ea",
   "metadata": {},
   "source": [
    "1-3. 다음에서 설명하는 위치에 존재하는 원소를 출력하세요."
   ]
  },
  {
   "cell_type": "code",
   "execution_count": 34,
   "id": "667422c7",
   "metadata": {},
   "outputs": [
    {
     "name": "stdout",
     "output_type": "stream",
     "text": [
      "8\n",
      "21\n",
      "7\n",
      "<class 'list'>\n",
      "<class 'int'>\n",
      "<class 'list'>\n"
     ]
    }
   ],
   "source": [
    "arr = [[1,2,3,4,5],[6,7,8,9,10],[11,12,13,14,15],[16,17,18,19,20],[21,22,23,24,25]]\n",
    "# TODO 1. 2행 3열에 있는 원소 출력\n",
    "print(arr[1][2])\n",
    "\n",
    "# TODO 2. 4번 인덱스에 있는 리스트의 0번 리스트에 있는 원소 출력\n",
    "print(arr[4][0])\n",
    "\n",
    "# TODO 3. (1,1) 에 있는 원소 출력\n",
    "print(arr[1][1])\n",
    "\n",
    "# TODO 4. type() 을 사용해서 arr의 3번 인덱스에 있는 원소의 타입을 출력해보세요.\n",
    "print(type(arr[3]))\n",
    "\n",
    "# TODO 5. type() 을 사용해서 arr의 (0,0) 에 있는 원소의 타입을 출력해보세요.\n",
    "print(type(arr[0][0]))\n",
    "\n",
    "# TODO 6. type() 을 사용해서 arr의 타입을 출력해보세요.\n",
    "print(type(arr))"
   ]
  },
  {
   "cell_type": "markdown",
   "id": "39dbf58d",
   "metadata": {},
   "source": [
    "1-4. 반복문을 사용하지 않고 print()를 여러번 사용해서 arr의 3번 인덱스에 있는 리스트의 모든 원소를 한줄에 하나씩 출력해보세요."
   ]
  },
  {
   "cell_type": "code",
   "execution_count": 5,
   "id": "511b546a",
   "metadata": {},
   "outputs": [
    {
     "name": "stdout",
     "output_type": "stream",
     "text": [
      "16\n",
      "17\n",
      "18\n",
      "19\n",
      "20\n"
     ]
    }
   ],
   "source": [
    "# TODO\n",
    "arr = [[1,2,3,4,5],[6,7,8,9,10],[11,12,13,14,15],[16,17,18,19,20],[21,22,23,24,25]]\n",
    "print(arr[3][0])\n",
    "print(arr[3][1])\n",
    "print(arr[3][2])\n",
    "print(arr[3][3])\n",
    "print(arr[3][4])"
   ]
  },
  {
   "cell_type": "markdown",
   "id": "3b2ac751",
   "metadata": {},
   "source": [
    "1-5. 반복문을 사용해서 1-4와 똑같이 출력해보세요. 1-4 에서 사용한 방법과 비교해보세요."
   ]
  },
  {
   "cell_type": "code",
   "execution_count": 6,
   "id": "1284b0b3",
   "metadata": {},
   "outputs": [
    {
     "name": "stdout",
     "output_type": "stream",
     "text": [
      "16\n",
      "17\n",
      "18\n",
      "19\n",
      "20\n"
     ]
    }
   ],
   "source": [
    "# TODO\n",
    "arr = [[1,2,3,4,5],[6,7,8,9,10],[11,12,13,14,15],[16,17,18,19,20],[21,22,23,24,25]]\n",
    "\n",
    "for i in range(5):\n",
    "    print(arr[3][i])"
   ]
  },
  {
   "cell_type": "markdown",
   "id": "4d9f841d",
   "metadata": {},
   "source": [
    "1-6. 반복문을 사용하지 않고 arr의 모든 원소를 출력하세요. 대신 5개를 출력할 때마다 사이에 \"---\" 가 출력되어야 합니다. print() 를 여러번 사용해서 출력해보세요."
   ]
  },
  {
   "cell_type": "code",
   "execution_count": 9,
   "id": "91cfb6c0",
   "metadata": {},
   "outputs": [
    {
     "name": "stdout",
     "output_type": "stream",
     "text": [
      "1\n",
      "2\n",
      "3\n",
      "4\n",
      "5\n",
      "---\n",
      "6\n",
      "7\n",
      "8\n",
      "9\n",
      "10\n",
      "---\n",
      "11\n",
      "12\n",
      "13\n",
      "14\n",
      "15\n",
      "---\n",
      "16\n",
      "17\n",
      "18\n",
      "19\n",
      "20\n",
      "---\n",
      "21\n",
      "22\n",
      "23\n",
      "24\n",
      "25\n"
     ]
    }
   ],
   "source": [
    "# TODO\n",
    "arr = [[1,2,3,4,5],[6,7,8,9,10],[11,12,13,14,15],[16,17,18,19,20],[21,22,23,24,25]]\n",
    "\n",
    "print(arr[0][0])\n",
    "print(arr[0][1])\n",
    "print(arr[0][2])\n",
    "print(arr[0][3])\n",
    "print(arr[0][4])\n",
    "print(\"---\")\n",
    "print(arr[1][0])\n",
    "print(arr[1][1])\n",
    "print(arr[1][2])\n",
    "print(arr[1][3])\n",
    "print(arr[1][4])\n",
    "print(\"---\")\n",
    "print(arr[2][0])\n",
    "print(arr[2][1])\n",
    "print(arr[2][2])\n",
    "print(arr[2][3])\n",
    "print(arr[2][4])\n",
    "print(\"---\")\n",
    "print(arr[3][0])\n",
    "print(arr[3][1])\n",
    "print(arr[3][2])\n",
    "print(arr[3][3])\n",
    "print(arr[3][4])\n",
    "print(\"---\")\n",
    "print(arr[4][0])\n",
    "print(arr[4][1])\n",
    "print(arr[4][2])\n",
    "print(arr[4][3])\n",
    "print(arr[4][4])\n"
   ]
  },
  {
   "cell_type": "markdown",
   "id": "6b1db358",
   "metadata": {},
   "source": [
    "1-7. 반복문을 중첩하지 않고 1-6과 똑같은 출력을 만들어보세요. for 문을 여러개(5개) 작성해서 해보세요."
   ]
  },
  {
   "cell_type": "code",
   "execution_count": 12,
   "id": "3d76fc76",
   "metadata": {},
   "outputs": [
    {
     "name": "stdout",
     "output_type": "stream",
     "text": [
      "1\n",
      "2\n",
      "3\n",
      "4\n",
      "5\n",
      "---\n",
      "6\n",
      "7\n",
      "8\n",
      "9\n",
      "10\n",
      "---\n",
      "11\n",
      "12\n",
      "13\n",
      "14\n",
      "15\n",
      "---\n",
      "16\n",
      "17\n",
      "18\n",
      "19\n",
      "20\n",
      "---\n",
      "21\n",
      "22\n",
      "23\n",
      "24\n",
      "25\n"
     ]
    }
   ],
   "source": [
    "# TODO\n",
    "\n",
    "for i in range(5):\n",
    "    print(arr[0][i])\n",
    "print('---')\n",
    "for i in range(5):\n",
    "    print(arr[1][i])\n",
    "print('---')\n",
    "for i in range(5):\n",
    "    print(arr[2][i])\n",
    "print('---')\n",
    "for i in range(5):\n",
    "    print(arr[3][i])\n",
    "print('---')\n",
    "for i in range(5):\n",
    "    print(arr[4][i])    "
   ]
  },
  {
   "cell_type": "markdown",
   "id": "2f2c2623",
   "metadata": {},
   "source": [
    "1-8. 중첩반복문을 사용해서 for 키워드를 두번만 사용해서 1-6, 1-7과 같은 출력을 만들어보세요. \"---\" 는 언제 출력해야 할까요?"
   ]
  },
  {
   "cell_type": "code",
   "execution_count": 15,
   "id": "84956b0b",
   "metadata": {},
   "outputs": [
    {
     "name": "stdout",
     "output_type": "stream",
     "text": [
      "1\n",
      "2\n",
      "3\n",
      "4\n",
      "5\n",
      "---\n",
      "6\n",
      "7\n",
      "8\n",
      "9\n",
      "10\n",
      "---\n",
      "11\n",
      "12\n",
      "13\n",
      "14\n",
      "15\n",
      "---\n",
      "16\n",
      "17\n",
      "18\n",
      "19\n",
      "20\n",
      "---\n",
      "21\n",
      "22\n",
      "23\n",
      "24\n",
      "25\n",
      "---\n"
     ]
    }
   ],
   "source": [
    "# TODO\n",
    "\n",
    "for i in range(5):\n",
    "    for j in range(5):\n",
    "        print(arr[i][j])\n",
    "    print('---')"
   ]
  },
  {
   "cell_type": "markdown",
   "id": "1abd72f8",
   "metadata": {},
   "source": [
    "1-9. range() 를 사용해서 숫자를 1부터 10까지 만들고, 한줄에 모두 출력해보세요. 코드는 단 한줄만 작성(for 사용 x)합니다. range() 의 역할은 무엇인가 생각해보세요."
   ]
  },
  {
   "cell_type": "code",
   "execution_count": 16,
   "id": "07f1f25c",
   "metadata": {},
   "outputs": [
    {
     "name": "stdout",
     "output_type": "stream",
     "text": [
      "range(1, 11)\n"
     ]
    }
   ],
   "source": [
    "# TODO\n",
    "print(range(1,11))"
   ]
  },
  {
   "cell_type": "markdown",
   "id": "213ad51b",
   "metadata": {},
   "source": [
    "1-10. range() 를 사용해서 숫자를 1부터 10까지 만들고 arr2 라는 이름의 리스트 안에 추가하세요. 이 작업을 10번 반복한 결과가 어떻게 되는지 arr2 를 출력해보세요.  \n",
    "append() 를 사용하지 않고 list()와 range()를 이용한 리스트 컴프리헨션만 사용합니다. 1부터 10까지의 숫자가 10번 출력이 되도록 작성해봅시다.  \n",
    "arr2를 만드는 코드 한줄, 출력하는 코드 한줄 만 사용해서 해봅니다.  "
   ]
  },
  {
   "cell_type": "code",
   "execution_count": null,
   "id": "b3a56870",
   "metadata": {},
   "outputs": [
    {
     "name": "stdout",
     "output_type": "stream",
     "text": [
      "[1, 2, 3, 4, 5, 6, 7, 8, 9, 10]\n",
      "[1, 2, 3, 4, 5, 6, 7, 8, 9, 10]\n",
      "[1, 2, 3, 4, 5, 6, 7, 8, 9, 10]\n",
      "[1, 2, 3, 4, 5, 6, 7, 8, 9, 10]\n",
      "[1, 2, 3, 4, 5, 6, 7, 8, 9, 10]\n",
      "[1, 2, 3, 4, 5, 6, 7, 8, 9, 10]\n",
      "[1, 2, 3, 4, 5, 6, 7, 8, 9, 10]\n",
      "[1, 2, 3, 4, 5, 6, 7, 8, 9, 10]\n",
      "[1, 2, 3, 4, 5, 6, 7, 8, 9, 10]\n",
      "[1, 2, 3, 4, 5, 6, 7, 8, 9, 10]\n"
     ]
    }
   ],
   "source": [
    "# TODO\n",
    "\n",
    "\n"
   ]
  },
  {
   "cell_type": "markdown",
   "id": "9f85bbf6",
   "metadata": {},
   "source": [
    "1-11. 위와 비슷한 방법으로 리스트 컴프리헨션을 사용해서(append 사용x) 1부터 100까지의 숫자를 2차원 배열에 담으려고 합니다.  \n",
    "2차원 배열의 구성은 리스트가 10개 있으며, 각 리스트에는 숫자가 10개씩 들어있습니다. arr3에 만들고 arr3을 아래처럼 출력해보세요.  \n",
    "arr3를 만드는 코드 한줄, 출력하는 코드 한줄 만 사용해서 해봅니다.  "
   ]
  },
  {
   "cell_type": "code",
   "execution_count": null,
   "id": "aa822963",
   "metadata": {},
   "outputs": [
    {
     "name": "stdout",
     "output_type": "stream",
     "text": [
      "[1, 2, 3, 4, 5, 6, 7, 8, 9, 10]\n",
      "[11, 12, 13, 14, 15, 16, 17, 18, 19, 20]\n",
      "[21, 22, 23, 24, 25, 26, 27, 28, 29, 30]\n",
      "[31, 32, 33, 34, 35, 36, 37, 38, 39, 40]\n",
      "[41, 42, 43, 44, 45, 46, 47, 48, 49, 50]\n",
      "[51, 52, 53, 54, 55, 56, 57, 58, 59, 60]\n",
      "[61, 62, 63, 64, 65, 66, 67, 68, 69, 70]\n",
      "[71, 72, 73, 74, 75, 76, 77, 78, 79, 80]\n",
      "[81, 82, 83, 84, 85, 86, 87, 88, 89, 90]\n",
      "[91, 92, 93, 94, 95, 96, 97, 98, 99, 100]\n"
     ]
    }
   ],
   "source": [
    "# TODO\n"
   ]
  },
  {
   "cell_type": "markdown",
   "id": "378df455",
   "metadata": {},
   "source": [
    "1-12. 리스트 컴프리헨션을 사용하지 않고 반복문을 사용해서 1-10과 똑같은 출력을 만들어보세요. 중첩 for문과 append를 활용해 arr4를 만들고 출력해봅니다."
   ]
  },
  {
   "cell_type": "code",
   "execution_count": null,
   "id": "520a706f",
   "metadata": {},
   "outputs": [
    {
     "name": "stdout",
     "output_type": "stream",
     "text": [
      "[1, 2, 3, 4, 5, 6, 7, 8, 9, 10]\n",
      "[1, 2, 3, 4, 5, 6, 7, 8, 9, 10]\n",
      "[1, 2, 3, 4, 5, 6, 7, 8, 9, 10]\n",
      "[1, 2, 3, 4, 5, 6, 7, 8, 9, 10]\n",
      "[1, 2, 3, 4, 5, 6, 7, 8, 9, 10]\n",
      "[1, 2, 3, 4, 5, 6, 7, 8, 9, 10]\n",
      "[1, 2, 3, 4, 5, 6, 7, 8, 9, 10]\n",
      "[1, 2, 3, 4, 5, 6, 7, 8, 9, 10]\n",
      "[1, 2, 3, 4, 5, 6, 7, 8, 9, 10]\n",
      "[1, 2, 3, 4, 5, 6, 7, 8, 9, 10]\n"
     ]
    }
   ],
   "source": [
    "# 수정 x\n",
    "arr4 = []\n",
    "\n",
    "# TODO\n",
    "\n"
   ]
  },
  {
   "cell_type": "markdown",
   "id": "109ded45",
   "metadata": {},
   "source": [
    "1-13. 리스트 컴프리헨션을 사용하지 않고 반복문을 사용해서 1-11 과 똑같은 출력을 만들어보세요. 중첩 for문과 append를 활용해서 arr5를 만들고 출력해봅니다.  "
   ]
  },
  {
   "cell_type": "code",
   "execution_count": null,
   "id": "25f2ba8e",
   "metadata": {},
   "outputs": [
    {
     "name": "stdout",
     "output_type": "stream",
     "text": [
      "[1, 2, 3, 4, 5, 6, 7, 8, 9, 10]\n",
      "[11, 12, 13, 14, 15, 16, 17, 18, 19, 20]\n",
      "[21, 22, 23, 24, 25, 26, 27, 28, 29, 30]\n",
      "[31, 32, 33, 34, 35, 36, 37, 38, 39, 40]\n",
      "[41, 42, 43, 44, 45, 46, 47, 48, 49, 50]\n",
      "[51, 52, 53, 54, 55, 56, 57, 58, 59, 60]\n",
      "[61, 62, 63, 64, 65, 66, 67, 68, 69, 70]\n",
      "[71, 72, 73, 74, 75, 76, 77, 78, 79, 80]\n",
      "[81, 82, 83, 84, 85, 86, 87, 88, 89, 90]\n",
      "[91, 92, 93, 94, 95, 96, 97, 98, 99, 100]\n"
     ]
    }
   ],
   "source": [
    "# 수정 x\n",
    "arr5 = []\n",
    "\n",
    "# TODO\n"
   ]
  },
  {
   "cell_type": "markdown",
   "id": "6f6f4ce2",
   "metadata": {},
   "source": [
    "1-14. arr5 를 아래와 똑같이 출력할 수 있도록 코드를 작성해보세요. for문을 하나만 사용합니다. (hint : *)"
   ]
  },
  {
   "cell_type": "code",
   "execution_count": null,
   "id": "a9c81a03",
   "metadata": {},
   "outputs": [
    {
     "name": "stdout",
     "output_type": "stream",
     "text": [
      "1 2 3 4 5 6 7 8 9 10\n",
      "11 12 13 14 15 16 17 18 19 20\n",
      "21 22 23 24 25 26 27 28 29 30\n",
      "31 32 33 34 35 36 37 38 39 40\n",
      "41 42 43 44 45 46 47 48 49 50\n",
      "51 52 53 54 55 56 57 58 59 60\n",
      "61 62 63 64 65 66 67 68 69 70\n",
      "71 72 73 74 75 76 77 78 79 80\n",
      "81 82 83 84 85 86 87 88 89 90\n",
      "91 92 93 94 95 96 97 98 99 100\n"
     ]
    }
   ],
   "source": [
    "# TODO\n"
   ]
  },
  {
   "cell_type": "markdown",
   "id": "0b28f66f",
   "metadata": {},
   "source": [
    "1-15. for문을 중첩해서 1-14와 똑같은 출력을 만들어보세요."
   ]
  },
  {
   "cell_type": "code",
   "execution_count": null,
   "id": "ddc15aae",
   "metadata": {},
   "outputs": [
    {
     "name": "stdout",
     "output_type": "stream",
     "text": [
      "1 2 3 4 5 6 7 8 9 10 \n",
      "11 12 13 14 15 16 17 18 19 20 \n",
      "21 22 23 24 25 26 27 28 29 30 \n",
      "31 32 33 34 35 36 37 38 39 40 \n",
      "41 42 43 44 45 46 47 48 49 50 \n",
      "51 52 53 54 55 56 57 58 59 60 \n",
      "61 62 63 64 65 66 67 68 69 70 \n",
      "71 72 73 74 75 76 77 78 79 80 \n",
      "81 82 83 84 85 86 87 88 89 90 \n",
      "91 92 93 94 95 96 97 98 99 100 \n"
     ]
    }
   ],
   "source": [
    "# TODO\n"
   ]
  }
 ],
 "metadata": {
  "kernelspec": {
   "display_name": "Python 3",
   "language": "python",
   "name": "python3"
  },
  "language_info": {
   "codemirror_mode": {
    "name": "ipython",
    "version": 3
   },
   "file_extension": ".py",
   "mimetype": "text/x-python",
   "name": "python",
   "nbconvert_exporter": "python",
   "pygments_lexer": "ipython3",
   "version": "3.11.9"
  }
 },
 "nbformat": 4,
 "nbformat_minor": 5
}
